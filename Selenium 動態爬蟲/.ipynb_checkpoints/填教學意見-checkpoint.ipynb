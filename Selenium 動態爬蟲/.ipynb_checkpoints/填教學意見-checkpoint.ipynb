{
 "cells": [
  {
   "cell_type": "code",
   "execution_count": 13,
   "metadata": {},
   "outputs": [
    {
     "name": "stdout",
     "output_type": "stream",
     "text": [
      "user success!\n",
      "pw success!\n",
      "click success!\n"
     ]
    }
   ],
   "source": [
    "# 匯入libraries\n",
    "from selenium import webdriver\n",
    "from bs4 import BeautifulSoup\n",
    "import requests\n",
    "from selenium.webdriver.support.ui import Select  \n",
    "import time\n",
    "\n",
    "\n",
    "target_url = 'https://moltke.nccu.edu.tw/SSO/startApplication?name=inccustucmt'\n",
    "driver = webdriver.Chrome('/Users/owner/Desktop/Github/Self_practice/Selenium 動態爬蟲/chromedriver')\n",
    "driver.get(target_url)\n",
    "\n",
    "username = 105208036\n",
    "password = 'Helloyen123@'\n",
    "\n",
    "#sign in the username\n",
    "try:\n",
    "    driver.find_element_by_id('captcha_Login1_UserName').send_keys(f'{username}')\n",
    "    print ('user success!')\n",
    "except:\n",
    "    print ('user error!')\n",
    "# time.sleep(1)\n",
    "\n",
    "#sign in the pasword\n",
    "try:\n",
    "    driver.find_element_by_id('captcha_Login1_Password').send_keys(password)\n",
    "    print('pw success!')\n",
    "except:\n",
    "    print ('pw error!')\n",
    "# time.sleep(1)\n",
    "\n",
    "#click to login\n",
    "try:\n",
    "    driver.find_element_by_id('captcha_Login1_LoginButton').click()\n",
    "    print ('click success!')\n",
    "except:\n",
    "    print ('click error!')\n",
    "# time.sleep(3)\n",
    "    \n",
    "    \n",
    "\n",
    "# a = [ [] for i in range(30)]\n",
    "\n",
    "# # 利用迴圈將資料抓下來\n",
    "# for i in range(3):\n",
    "#     select = Select(driver.find_element_by_name('year'))\n",
    "    \n",
    "#     if select.select_by_value(year[i]) != year[0]:\n",
    "#         select.select_by_value(year[i])\n",
    "        \n",
    "#     if year[i] != '2018':\n",
    "#         for j in range(12):\n",
    "#             select = Select(driver.find_element_by_name('month')) \n",
    "\n",
    "#             if select.select_by_value(month[j]) != month[0]:\n",
    "#                 select.select_by_value(month[j])\n",
    "            \n",
    "#             soup = BeautifulSoup(driver.page_source, 'html.parser')\n",
    "            \n",
    "#             b = soup.find_all(headers = 'subH-2')# 月均溫\n",
    "            \n",
    "#             for k in range(29):\n",
    "#                 a[(i*12) + j].append(b[k].string)\n",
    "                                 \n",
    "#     else:        \n",
    "#         for j in range(6):\n",
    "#             select = Select(driver.find_element_by_name('month'))  \n",
    "\n",
    "#             if select.select_by_value(month[j]) != month[0]:\n",
    "#                 select.select_by_value(month[j])\n",
    "                \n",
    "#             soup = BeautifulSoup(driver.page_source, 'html.parser')\n",
    "\n",
    "#             b = soup.find_all(headers = 'subH-2') \n",
    "            \n",
    "#             for k in range(29):\n",
    "#                 a[(i*12) + j].append(b[k].string)\n",
    "\n",
    "# driver.quit()"
   ]
  },
  {
   "cell_type": "code",
   "execution_count": null,
   "metadata": {},
   "outputs": [],
   "source": []
  }
 ],
 "metadata": {
  "kernelspec": {
   "display_name": "Python 3",
   "language": "python",
   "name": "python3"
  },
  "language_info": {
   "codemirror_mode": {
    "name": "ipython",
    "version": 3
   },
   "file_extension": ".py",
   "mimetype": "text/x-python",
   "name": "python",
   "nbconvert_exporter": "python",
   "pygments_lexer": "ipython3",
   "version": "3.7.4"
  }
 },
 "nbformat": 4,
 "nbformat_minor": 2
}
