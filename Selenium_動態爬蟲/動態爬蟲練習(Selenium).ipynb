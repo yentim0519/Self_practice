{
 "cells": [
  {
   "cell_type": "markdown",
   "metadata": {},
   "source": [
    "## 目標\n",
    "利用Selenium將「交通部中央氣象局」2016年1月到2018年6月的氣象資料抓下來，但由於網站試用ajax來呈現個月份的資料，於是需要用到動態爬蟲"
   ]
  },
  {
   "cell_type": "code",
   "execution_count": 4,
   "metadata": {},
   "outputs": [],
   "source": [
    "# 匯入libraries\n",
    "from selenium import webdriver\n",
    "from bs4 import BeautifulSoup\n",
    "import requests\n",
    "from selenium.webdriver.support.ui import Select  \n",
    "\n",
    "# 將年月變成list\n",
    "month = ['1', '2', '3', '4', '5', '6', '7', '8', '9', '10', '11', '12']\n",
    "year = ['2016', '2017', '2018']\n",
    "\n",
    "target_url = 'https://www.cwb.gov.tw/V8/C/C/Statistics/monthlydata.html'\n",
    "driver = webdriver.Chrome('/Users/owner/Desktop/Github/Self_practice/Selenium 動態爬蟲/chromedriver')\n",
    "driver.get(target_url)\n",
    "\n",
    "a = [ [] for i in range(30)]\n",
    "\n",
    "# 利用迴圈將資料抓下來\n",
    "for i in range(3):\n",
    "    select = Select(driver.find_element_by_name('year'))\n",
    "    \n",
    "    if select.select_by_value(year[i]) != year[0]:\n",
    "        select.select_by_value(year[i])\n",
    "        \n",
    "    if year[i] != '2018':\n",
    "        for j in range(12):\n",
    "            select = Select(driver.find_element_by_name('month')) \n",
    "\n",
    "            if select.select_by_value(month[j]) != month[0]:\n",
    "                select.select_by_value(month[j])\n",
    "            \n",
    "            soup = BeautifulSoup(driver.page_source, 'html.parser')\n",
    "            \n",
    "            b = soup.find_all(headers = 'subH-2')# 月均溫\n",
    "            \n",
    "            for k in range(29):\n",
    "                a[(i*12) + j].append(b[k].string)\n",
    "                                 \n",
    "    else:        \n",
    "        for j in range(6):\n",
    "            select = Select(driver.find_element_by_name('month'))  \n",
    "\n",
    "            if select.select_by_value(month[j]) != month[0]:\n",
    "                select.select_by_value(month[j])\n",
    "                \n",
    "            soup = BeautifulSoup(driver.page_source, 'html.parser')\n",
    "\n",
    "            b = soup.find_all(headers = 'subH-2') \n",
    "            \n",
    "            for k in range(29):\n",
    "                a[(i*12) + j].append(b[k].string)\n",
    "\n",
    "driver.quit()"
   ]
  },
  {
   "cell_type": "code",
   "execution_count": 6,
   "metadata": {},
   "outputs": [
    {
     "data": {
      "text/plain": [
       "[<td headers=\"H-1 subH-2\"></td>,\n",
       " <td headers=\"H-1 subH-2\">14.4</td>,\n",
       " <td headers=\"H-1 subH-2\">21.9</td>,\n",
       " <td headers=\"H-1 subH-2\">28.3</td>,\n",
       " <td headers=\"H-1 subH-2\">27.1</td>,\n",
       " <td headers=\"H-1 subH-2\">28.5</td>,\n",
       " <td headers=\"H-1 subH-2\">28.2</td>,\n",
       " <td headers=\"H-1 subH-2\">28.1</td>,\n",
       " <td headers=\"H-1 subH-2\">28.8</td>,\n",
       " <td headers=\"H-1 subH-2\">28.5</td>,\n",
       " <td headers=\"H-1 subH-2\">27.8</td>,\n",
       " <td headers=\"H-1 subH-2\">29.1</td>,\n",
       " <td headers=\"H-1 subH-2\">27.2</td>,\n",
       " <td headers=\"H-1 subH-2\">27.1</td>,\n",
       " <td headers=\"H-1 subH-2\">26.0</td>,\n",
       " <td headers=\"H-1 subH-2\">25.2</td>,\n",
       " <td headers=\"H-1 subH-2\">28.1</td>,\n",
       " <td headers=\"H-1 subH-2\">26.1</td>,\n",
       " <td headers=\"H-1 subH-2\">27.3</td>,\n",
       " <td headers=\"H-1 subH-2\">22.6</td>,\n",
       " <td headers=\"H-1 subH-2\">28.7</td>,\n",
       " <td headers=\"H-1 subH-2\">29.0</td>,\n",
       " <td headers=\"H-1 subH-2\">28.5</td>,\n",
       " <td headers=\"H-1 subH-2\">28.3</td>,\n",
       " <td headers=\"H-1 subH-2\">28.0</td>,\n",
       " <td headers=\"H-1 subH-2\">28.1</td>,\n",
       " <td headers=\"H-1 subH-2\">27.4</td>,\n",
       " <td headers=\"H-1 subH-2\">27.8</td>,\n",
       " <td headers=\"H-1 subH-2\">8.3</td>,\n",
       " <td headers=\"H-1 subH-2\">23.6</td>]"
      ]
     },
     "execution_count": 6,
     "metadata": {},
     "output_type": "execute_result"
    }
   ],
   "source": [
    "b"
   ]
  },
  {
   "cell_type": "code",
   "execution_count": null,
   "metadata": {},
   "outputs": [],
   "source": []
  }
 ],
 "metadata": {
  "kernelspec": {
   "display_name": "Python 3",
   "language": "python",
   "name": "python3"
  },
  "language_info": {
   "codemirror_mode": {
    "name": "ipython",
    "version": 3
   },
   "file_extension": ".py",
   "mimetype": "text/x-python",
   "name": "python",
   "nbconvert_exporter": "python",
   "pygments_lexer": "ipython3",
   "version": "3.7.4"
  }
 },
 "nbformat": 4,
 "nbformat_minor": 2
}
